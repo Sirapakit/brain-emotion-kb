{
 "cells": [
  {
   "cell_type": "code",
   "execution_count": 1,
   "metadata": {},
   "outputs": [],
   "source": [
    "import pandas as pd \n",
    "import numpy as np "
   ]
  },
  {
   "cell_type": "code",
   "execution_count": 2,
   "metadata": {},
   "outputs": [],
   "source": [
    "subject_id = 'S01'\n",
    "game_id = 'G3'\n",
    "label = 0\n",
    "data_path = '../database'\n",
    "\n",
    "data = pd.read_csv(data_path + '/' + subject_id + game_id + 'AllChannels.csv')\n"
   ]
  },
  {
   "cell_type": "code",
   "execution_count": 3,
   "metadata": {},
   "outputs": [
    {
     "data": {
      "text/html": [
       "<div>\n",
       "<style scoped>\n",
       "    .dataframe tbody tr th:only-of-type {\n",
       "        vertical-align: middle;\n",
       "    }\n",
       "\n",
       "    .dataframe tbody tr th {\n",
       "        vertical-align: top;\n",
       "    }\n",
       "\n",
       "    .dataframe thead th {\n",
       "        text-align: right;\n",
       "    }\n",
       "</style>\n",
       "<table border=\"1\" class=\"dataframe\">\n",
       "  <thead>\n",
       "    <tr style=\"text-align: right;\">\n",
       "      <th></th>\n",
       "      <th>AF3</th>\n",
       "      <th>AF4</th>\n",
       "      <th>F3</th>\n",
       "      <th>F4</th>\n",
       "      <th>F7</th>\n",
       "      <th>F8</th>\n",
       "      <th>FC5</th>\n",
       "      <th>FC6</th>\n",
       "      <th>O1</th>\n",
       "      <th>O2</th>\n",
       "      <th>P7</th>\n",
       "      <th>P8</th>\n",
       "      <th>T7</th>\n",
       "      <th>T8</th>\n",
       "      <th>Unnamed: 14</th>\n",
       "    </tr>\n",
       "  </thead>\n",
       "  <tbody>\n",
       "    <tr>\n",
       "      <th>0</th>\n",
       "      <td>52.5434</td>\n",
       "      <td>-33.7436</td>\n",
       "      <td>91.1077</td>\n",
       "      <td>-19.28220</td>\n",
       "      <td>-57.8463</td>\n",
       "      <td>48.2051</td>\n",
       "      <td>1.9284</td>\n",
       "      <td>-11.0870</td>\n",
       "      <td>42.4205</td>\n",
       "      <td>-1.92840</td>\n",
       "      <td>74.2359</td>\n",
       "      <td>-6.2667</td>\n",
       "      <td>22.1742</td>\n",
       "      <td>-4.8205</td>\n",
       "      <td>NaN</td>\n",
       "    </tr>\n",
       "    <tr>\n",
       "      <th>1</th>\n",
       "      <td>48.9088</td>\n",
       "      <td>-29.3086</td>\n",
       "      <td>82.2668</td>\n",
       "      <td>-12.82260</td>\n",
       "      <td>-62.0883</td>\n",
       "      <td>37.1181</td>\n",
       "      <td>2.7766</td>\n",
       "      <td>-10.4218</td>\n",
       "      <td>30.2343</td>\n",
       "      <td>-6.15100</td>\n",
       "      <td>65.4434</td>\n",
       "      <td>-8.7828</td>\n",
       "      <td>8.3107</td>\n",
       "      <td>-2.6031</td>\n",
       "      <td>NaN</td>\n",
       "    </tr>\n",
       "    <tr>\n",
       "      <th>2</th>\n",
       "      <td>43.0825</td>\n",
       "      <td>-24.6576</td>\n",
       "      <td>79.2592</td>\n",
       "      <td>-4.82220</td>\n",
       "      <td>-55.4704</td>\n",
       "      <td>29.1066</td>\n",
       "      <td>-0.2823</td>\n",
       "      <td>-9.3145</td>\n",
       "      <td>34.6870</td>\n",
       "      <td>0.48477</td>\n",
       "      <td>62.9629</td>\n",
       "      <td>-11.6303</td>\n",
       "      <td>5.8837</td>\n",
       "      <td>-5.3392</td>\n",
       "      <td>NaN</td>\n",
       "    </tr>\n",
       "    <tr>\n",
       "      <th>3</th>\n",
       "      <td>43.3896</td>\n",
       "      <td>-21.7323</td>\n",
       "      <td>79.8063</td>\n",
       "      <td>-0.19451</td>\n",
       "      <td>-39.6090</td>\n",
       "      <td>35.5549</td>\n",
       "      <td>1.6628</td>\n",
       "      <td>-8.7559</td>\n",
       "      <td>42.7287</td>\n",
       "      <td>-1.47250</td>\n",
       "      <td>57.7388</td>\n",
       "      <td>-14.7891</td>\n",
       "      <td>11.7972</td>\n",
       "      <td>-4.5369</td>\n",
       "      <td>NaN</td>\n",
       "    </tr>\n",
       "    <tr>\n",
       "      <th>4</th>\n",
       "      <td>46.5708</td>\n",
       "      <td>-23.8029</td>\n",
       "      <td>75.4999</td>\n",
       "      <td>-5.48570</td>\n",
       "      <td>-37.2327</td>\n",
       "      <td>28.1190</td>\n",
       "      <td>-2.2933</td>\n",
       "      <td>-4.8561</td>\n",
       "      <td>31.4878</td>\n",
       "      <td>2.47220</td>\n",
       "      <td>60.5410</td>\n",
       "      <td>-9.5632</td>\n",
       "      <td>7.7149</td>\n",
       "      <td>-3.3003</td>\n",
       "      <td>NaN</td>\n",
       "    </tr>\n",
       "  </tbody>\n",
       "</table>\n",
       "</div>"
      ],
      "text/plain": [
       "       AF3      AF4       F3        F4       F7       F8     FC5      FC6  \\\n",
       "0  52.5434 -33.7436  91.1077 -19.28220 -57.8463  48.2051  1.9284 -11.0870   \n",
       "1  48.9088 -29.3086  82.2668 -12.82260 -62.0883  37.1181  2.7766 -10.4218   \n",
       "2  43.0825 -24.6576  79.2592  -4.82220 -55.4704  29.1066 -0.2823  -9.3145   \n",
       "3  43.3896 -21.7323  79.8063  -0.19451 -39.6090  35.5549  1.6628  -8.7559   \n",
       "4  46.5708 -23.8029  75.4999  -5.48570 -37.2327  28.1190 -2.2933  -4.8561   \n",
       "\n",
       "        O1       O2       P7       P8       T7      T8  Unnamed: 14  \n",
       "0  42.4205 -1.92840  74.2359  -6.2667  22.1742 -4.8205          NaN  \n",
       "1  30.2343 -6.15100  65.4434  -8.7828   8.3107 -2.6031          NaN  \n",
       "2  34.6870  0.48477  62.9629 -11.6303   5.8837 -5.3392          NaN  \n",
       "3  42.7287 -1.47250  57.7388 -14.7891  11.7972 -4.5369          NaN  \n",
       "4  31.4878  2.47220  60.5410  -9.5632   7.7149 -3.3003          NaN  "
      ]
     },
     "execution_count": 3,
     "metadata": {},
     "output_type": "execute_result"
    }
   ],
   "source": [
    "data.head()"
   ]
  },
  {
   "cell_type": "code",
   "execution_count": 4,
   "metadata": {},
   "outputs": [
    {
     "name": "stdout",
     "output_type": "stream",
     "text": [
      "(6, 38252)\n"
     ]
    }
   ],
   "source": [
    "# Grab data 6 channles \n",
    "data_AF3 = data['AF3']\n",
    "data_AF4 = data['AF4']\n",
    "data_F3 = data['F3']\n",
    "data_F4 = data['F4']\n",
    "data_F7 = data['F7']\n",
    "data_F8 = data['F8']\n",
    "data_6_channels = np.vstack((data_AF3, data_AF4, data_F3, data_F4, data_F7, data_F8))\n",
    "print(data_6_channels.shape)\n"
   ]
  },
  {
   "cell_type": "code",
   "execution_count": 6,
   "metadata": {},
   "outputs": [],
   "source": [
    "# Grab filter \n",
    "filter_path = './filter_coefficients.csv'\n",
    "filters = pd.read_csv(filter_path)\n",
    "\n",
    "filter_band_1 = filters['Filter 1']\n",
    "filter_band_2 = filters['Filter 2']\n",
    "filter_band_3 = filters['Filter 3']\n",
    "filter_band_4 = filters['Filter 4']\n"
   ]
  },
  {
   "cell_type": "code",
   "execution_count": 7,
   "metadata": {},
   "outputs": [
    {
     "name": "stderr",
     "output_type": "stream",
     "text": [
      "/opt/homebrew/anaconda3/lib/python3.9/site-packages/scipy/__init__.py:146: UserWarning: A NumPy version >=1.16.5 and <1.23.0 is required for this version of SciPy (detected version 1.25.2\n",
      "  warnings.warn(f\"A NumPy version >={np_minversion} and <{np_maxversion}\"\n"
     ]
    },
    {
     "name": "stdout",
     "output_type": "stream",
     "text": [
      "[[   1.            1.            1.         ...    1.\n",
      "     1.            1.        ]\n",
      " [-132.36335104 -129.59064773 -126.81961648 ...  -10.79212337\n",
      "   -11.01035118  -11.22870725]]\n"
     ]
    }
   ],
   "source": [
    "from scipy import signal\n",
    "\n",
    "Beta_F7 = signal.filtfilt(filter_band_4, 1, data_F7)\n",
    "Beta_F8 = signal.filtfilt(filter_band_4, 1, data_F8)\n",
    "diff_beta = Beta_F7 - Beta_F8 \n",
    "\n",
    "\n",
    "label = np.full(len(diff_beta), 1, dtype=int)\n",
    "data_with_label = np.vstack((label, diff_beta))\n",
    "\n",
    "print(data_with_label)\n",
    "# np.save('datawithlabel-G3', data_with_label)"
   ]
  },
  {
   "cell_type": "code",
   "execution_count": 8,
   "metadata": {},
   "outputs": [
    {
     "name": "stdout",
     "output_type": "stream",
     "text": [
      "(25, 38252)\n"
     ]
    }
   ],
   "source": [
    "from scipy import signal\n",
    "import numpy as np\n",
    "\n",
    "NUM_BANDS = 4\n",
    "SAMPLING_FREQ = 128\n",
    "WINDOW_LENGTH = 4\n",
    "DATA_CHN = 6\n",
    "SHIFTED_SEC = 2 \n",
    "NUM_HJORTH_PARAM = 3 * 4 # 3 Param in each bands \n",
    "\n",
    "# Filter Bank Convolution  (((data_chn*num_bands)+1, data_len))\n",
    "data_filtered_array = np.zeros(((DATA_CHN*NUM_BANDS)+1, data_6_channels.shape[1]))\n",
    "for i in range(DATA_CHN):\n",
    "    data_filtered_array[i*NUM_BANDS+0][:]  = signal.filtfilt(filter_band_1, 1, data_6_channels[i])\n",
    "    data_filtered_array[i*NUM_BANDS+1][:]  = signal.filtfilt(filter_band_2, 1, data_6_channels[i])      \n",
    "    data_filtered_array[i*NUM_BANDS+2][:]  = signal.filtfilt(filter_band_3, 1, data_6_channels[i])\n",
    "    data_filtered_array[i*NUM_BANDS+3][:]  = signal.filtfilt(filter_band_4, 1, data_6_channels[i])\n",
    "\n",
    "print(data_filtered_array.shape)\n"
   ]
  },
  {
   "cell_type": "code",
   "execution_count": 9,
   "metadata": {},
   "outputs": [
    {
     "name": "stdout",
     "output_type": "stream",
     "text": [
      "Shape after Convolve is (25, 38252)\n",
      "Count 2: 38252\n"
     ]
    }
   ],
   "source": [
    "# Add event channel\n",
    "data_filtered_array[-1, :] = label\n",
    "print(f\"Shape after Convolve is {data_filtered_array.shape}\")\n",
    "print(f'Count 2: {np.count_nonzero(data_filtered_array[-1]==1)}')\n"
   ]
  },
  {
   "cell_type": "code",
   "execution_count": 16,
   "metadata": {},
   "outputs": [
    {
     "name": "stdout",
     "output_type": "stream",
     "text": [
      "(4, 3700)\n"
     ]
    },
    {
     "name": "stderr",
     "output_type": "stream",
     "text": [
      "/var/folders/fx/s9d23h851bqgcdp14ny244k80000gn/T/ipykernel_20460/4245989875.py:14: RuntimeWarning: invalid value encountered in scalar divide\n",
      "  return np.var(np.diff(signal)) / np.var(signal)\n",
      "/var/folders/fx/s9d23h851bqgcdp14ny244k80000gn/T/ipykernel_20460/4245989875.py:18: RuntimeWarning: invalid value encountered in scalar divide\n",
      "  return np.var(diff2) / np.var(signal)\n"
     ]
    }
   ],
   "source": [
    "import numpy as np\n",
    "from scipy.signal import hanning\n",
    "from scipy.stats import moment\n",
    "\n",
    "# Assuming 'data' is your input data with shape (24, 30000)\n",
    "# You need to define the functions to calculate Energy and Hjorth parameters\n",
    "def calculate_energy(signal):\n",
    "    return np.sum(signal ** 2)\n",
    "\n",
    "def hjorth_first_parameter(signal):\n",
    "    return np.mean(np.diff(signal)) ** 2\n",
    "\n",
    "def hjorth_second_parameter(signal):\n",
    "    return np.var(np.diff(signal)) / np.var(signal)\n",
    "\n",
    "def hjorth_third_parameter(signal):\n",
    "    diff2 = np.diff(signal, n=2)\n",
    "    return np.var(diff2) / np.var(signal)\n",
    "\n",
    "# Parameters for the windowing and overlapping\n",
    "sampling_rate = 128\n",
    "seconds = 4\n",
    "window_size = sampling_rate * seconds\n",
    "overlap = int(0.5*window_size)\n",
    "\n",
    "# Initialize an empty array to store the results\n",
    "result_rows = []\n",
    "\n",
    "# Iterate through each row of the data\n",
    "for row in data_filtered_array:\n",
    "    row_results = []\n",
    "    \n",
    "    # Apply the functions to each window with overlap\n",
    "    for i in range(0, len(row) - window_size + 1, overlap):\n",
    "        window = row[i:i + window_size]\n",
    "        \n",
    "        energy = calculate_energy(window)\n",
    "        hjorth_1 = hjorth_first_parameter(window)\n",
    "        hjorth_2 = hjorth_second_parameter(window)\n",
    "        hjorth_3 = hjorth_third_parameter(window)\n",
    "        \n",
    "        row_results.append([energy, hjorth_1, hjorth_2, hjorth_3])\n",
    "    \n",
    "    result_rows.extend(row_results)\n",
    "\n",
    "# Convert the results to a NumPy array for easier manipulation\n",
    "result_array = np.array(result_rows)\n",
    "\n",
    "# Transpose the result_array to achieve the desired shape (96, xxxx)\n",
    "result_array = result_array.T\n",
    "\n",
    "# Now result_array has the shape (96, xxxx)\n",
    "print(result_array.shape)\n",
    "# The transposition step result_array = result_array.T will convert the shape from (xxxx, 96) to (96, xxxx) as you requested.\n",
    "\n",
    "\n",
    "\n",
    "\n"
   ]
  },
  {
   "cell_type": "code",
   "execution_count": null,
   "metadata": {},
   "outputs": [],
   "source": [
    "# Calculate Energy perband\n",
    "print(f\"--------Calculating Energy {subject_id}{game_id}--------\")\n",
    "\n",
    "feature_array = np.zeros((((NUM_BANDS+NUM_HJORTH_NUM)*DATA_CHN)+1, int(data_filtered_array.shape[1]/(SAMPLING_FREQ*SHIFTED_SEC))))\n",
    "\n",
    "for band in range((NUM_BANDS+NUM_HJORTH_PARAM) * DATA_CHN):\n",
    "    start = 0 \n",
    "    end = SAMPLING_FREQ * WINDOW_LENGTH\n",
    "    count = 0\n",
    "    overlapping = int(0.5 * end)\n",
    "\n",
    "    if (feat != (NUM_BANDS+NUM_HJORTH_NUM) * DATA_CHN):  \n",
    "        while (end <= data_filtered_array.shape[1]):\n",
    "            new_sub_array = np.zeros((1, int(end)))\n",
    "            new_sub_array = data_filtered_array[feat][:][start: end]\n",
    "            energy_one_band = np.sum(np.power(new_sub_array, 2))\n",
    "            feature_array[feat][count] = energy_one_band\n",
    "            start += overlapping\n",
    "            end += overlapping\n",
    "            count += 1\n",
    "            print(f'Feat {feat} done at chn {count}!')\n",
    "    \n",
    "feature_array[-1, :] = label\n",
    "\n",
    "print(feature_array.shape)\n",
    "filename = subject_id + \"-\" + game_id + \"-with-labels.npy\"\n",
    "np.save(filename, feature_array)\n",
    "print(f'Count 1: {np.count_nonzero(feature_array[-1]==1)}')\n"
   ]
  }
 ],
 "metadata": {
  "kernelspec": {
   "display_name": "Python 3",
   "language": "python",
   "name": "python3"
  },
  "language_info": {
   "codemirror_mode": {
    "name": "ipython",
    "version": 3
   },
   "file_extension": ".py",
   "mimetype": "text/x-python",
   "name": "python",
   "nbconvert_exporter": "python",
   "pygments_lexer": "ipython3",
   "version": "3.9.12"
  },
  "orig_nbformat": 4
 },
 "nbformat": 4,
 "nbformat_minor": 2
}
